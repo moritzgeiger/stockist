{
 "cells": [
  {
   "cell_type": "code",
   "execution_count": 2,
   "id": "cc959b42",
   "metadata": {
    "ExecuteTime": {
     "end_time": "2021-08-24T11:21:39.644982Z",
     "start_time": "2021-08-24T11:21:39.241534Z"
    }
   },
   "outputs": [],
   "source": [
    "import pandas as pd\n",
    "import numpy as np\n",
    "import datetime as dt\n",
    "import requests\n",
    "import os\n",
    "from dotenv import load_dotenv, find_dotenv"
   ]
  },
  {
   "cell_type": "code",
   "execution_count": 3,
   "id": "12e01812",
   "metadata": {
    "ExecuteTime": {
     "end_time": "2021-08-24T11:21:40.498009Z",
     "start_time": "2021-08-24T11:21:40.489194Z"
    }
   },
   "outputs": [],
   "source": [
    "load_dotenv(find_dotenv())\n",
    "MARKET_KEY = os.environ.get('MARKET')"
   ]
  },
  {
   "cell_type": "markdown",
   "id": "c09aa628",
   "metadata": {},
   "source": [
    "# weiter"
   ]
  },
  {
   "cell_type": "code",
   "execution_count": 5,
   "id": "7f069b2a",
   "metadata": {
    "ExecuteTime": {
     "end_time": "2021-08-24T11:21:46.660782Z",
     "start_time": "2021-08-24T11:21:46.629747Z"
    }
   },
   "outputs": [],
   "source": [
    "pd_rest = pd.read_csv('../raw_data/hist_data.csv')"
   ]
  },
  {
   "cell_type": "code",
   "execution_count": 6,
   "id": "08482acf",
   "metadata": {
    "ExecuteTime": {
     "end_time": "2021-08-24T11:21:47.322598Z",
     "start_time": "2021-08-24T11:21:47.317957Z"
    }
   },
   "outputs": [],
   "source": [
    "string = ','.join(pd_rest.ticker)"
   ]
  },
  {
   "cell_type": "code",
   "execution_count": 7,
   "id": "592f32ae",
   "metadata": {
    "ExecuteTime": {
     "end_time": "2021-08-24T11:21:47.895543Z",
     "start_time": "2021-08-24T11:21:47.860335Z"
    }
   },
   "outputs": [
    {
     "data": {
      "text/html": [
       "<div>\n",
       "<style scoped>\n",
       "    .dataframe tbody tr th:only-of-type {\n",
       "        vertical-align: middle;\n",
       "    }\n",
       "\n",
       "    .dataframe tbody tr th {\n",
       "        vertical-align: top;\n",
       "    }\n",
       "\n",
       "    .dataframe thead th {\n",
       "        text-align: right;\n",
       "    }\n",
       "</style>\n",
       "<table border=\"1\" class=\"dataframe\">\n",
       "  <thead>\n",
       "    <tr style=\"text-align: right;\">\n",
       "      <th></th>\n",
       "      <th>Verwaltung</th>\n",
       "      <th>WKN</th>\n",
       "      <th>Name</th>\n",
       "      <th>Land</th>\n",
       "    </tr>\n",
       "  </thead>\n",
       "  <tbody>\n",
       "    <tr>\n",
       "      <th>0</th>\n",
       "      <td>KSK</td>\n",
       "      <td>EWG2LD</td>\n",
       "      <td>Euwax-Gold</td>\n",
       "      <td>DE</td>\n",
       "    </tr>\n",
       "    <tr>\n",
       "      <th>1</th>\n",
       "      <td>KSK</td>\n",
       "      <td>EWG2LD</td>\n",
       "      <td>Euwax-Gold</td>\n",
       "      <td>DE</td>\n",
       "    </tr>\n",
       "    <tr>\n",
       "      <th>2</th>\n",
       "      <td>KSK</td>\n",
       "      <td>EWG2LD</td>\n",
       "      <td>Euwax-Gold</td>\n",
       "      <td>DE</td>\n",
       "    </tr>\n",
       "    <tr>\n",
       "      <th>3</th>\n",
       "      <td>KSK</td>\n",
       "      <td>A118V8</td>\n",
       "      <td>Pfis ETF-P.LD EO C.B. EOI</td>\n",
       "      <td>IE</td>\n",
       "    </tr>\n",
       "    <tr>\n",
       "      <th>4</th>\n",
       "      <td>KSK</td>\n",
       "      <td>A118V8</td>\n",
       "      <td>Pfis ETF-P.LD EO C.B. EOI</td>\n",
       "      <td>IE</td>\n",
       "    </tr>\n",
       "    <tr>\n",
       "      <th>...</th>\n",
       "      <td>...</td>\n",
       "      <td>...</td>\n",
       "      <td>...</td>\n",
       "      <td>...</td>\n",
       "    </tr>\n",
       "    <tr>\n",
       "      <th>464</th>\n",
       "      <td>KSK</td>\n",
       "      <td>NaN</td>\n",
       "      <td>NaN</td>\n",
       "      <td>NaN</td>\n",
       "    </tr>\n",
       "    <tr>\n",
       "      <th>465</th>\n",
       "      <td>KSK</td>\n",
       "      <td>NaN</td>\n",
       "      <td>NaN</td>\n",
       "      <td>NaN</td>\n",
       "    </tr>\n",
       "    <tr>\n",
       "      <th>466</th>\n",
       "      <td>KSK</td>\n",
       "      <td>NaN</td>\n",
       "      <td>NaN</td>\n",
       "      <td>NaN</td>\n",
       "    </tr>\n",
       "    <tr>\n",
       "      <th>467</th>\n",
       "      <td>NaN</td>\n",
       "      <td>NaN</td>\n",
       "      <td>NaN</td>\n",
       "      <td>NaN</td>\n",
       "    </tr>\n",
       "    <tr>\n",
       "      <th>468</th>\n",
       "      <td>NaN</td>\n",
       "      <td>NaN</td>\n",
       "      <td>NaN</td>\n",
       "      <td>NaN</td>\n",
       "    </tr>\n",
       "  </tbody>\n",
       "</table>\n",
       "<p>469 rows × 4 columns</p>\n",
       "</div>"
      ],
      "text/plain": [
       "    Verwaltung     WKN                       Name Land\n",
       "0          KSK  EWG2LD                 Euwax-Gold   DE\n",
       "1          KSK  EWG2LD                 Euwax-Gold   DE\n",
       "2          KSK  EWG2LD                 Euwax-Gold   DE\n",
       "3          KSK  A118V8  Pfis ETF-P.LD EO C.B. EOI   IE\n",
       "4          KSK  A118V8  Pfis ETF-P.LD EO C.B. EOI   IE\n",
       "..         ...     ...                        ...  ...\n",
       "464        KSK     NaN                        NaN  NaN\n",
       "465        KSK     NaN                        NaN  NaN\n",
       "466        KSK     NaN                        NaN  NaN\n",
       "467        NaN     NaN                        NaN  NaN\n",
       "468        NaN     NaN                        NaN  NaN\n",
       "\n",
       "[469 rows x 4 columns]"
      ]
     },
     "execution_count": 7,
     "metadata": {},
     "output_type": "execute_result"
    }
   ],
   "source": [
    "# Data\n",
    "df = pd.read_csv('../raw_data/stocks.csv', sep=';')\n",
    "df"
   ]
  },
  {
   "cell_type": "code",
   "execution_count": 23,
   "id": "1a3ad854",
   "metadata": {
    "ExecuteTime": {
     "end_time": "2021-08-24T11:41:54.935966Z",
     "start_time": "2021-08-24T11:41:54.531664Z"
    }
   },
   "outputs": [],
   "source": [
    "BASE = 'http://api.marketstack.com/v1/eod'\n",
    "\n",
    "params = {\n",
    "    'access_key': MARKET_KEY,\n",
    "    'date_from':'2021-08-04',\n",
    "    'date_to':'2021-08-15',\n",
    "    'symbols':string,\n",
    "    'limit':'5000'\n",
    "}\n",
    "\n",
    "\n",
    "r = requests.get(BASE, params=params)"
   ]
  },
  {
   "cell_type": "code",
   "execution_count": 24,
   "id": "e3030c94",
   "metadata": {
    "ExecuteTime": {
     "end_time": "2021-08-24T11:41:54.954519Z",
     "start_time": "2021-08-24T11:41:54.942029Z"
    }
   },
   "outputs": [],
   "source": [
    "df_r = pd.DataFrame(r.json().get('data'))\n",
    "if df_r.any().any():\n",
    "    print('ye')"
   ]
  },
  {
   "cell_type": "code",
   "execution_count": 25,
   "id": "51330127",
   "metadata": {
    "ExecuteTime": {
     "end_time": "2021-08-24T11:41:55.551144Z",
     "start_time": "2021-08-24T11:41:55.544689Z"
    }
   },
   "outputs": [
    {
     "data": {
      "text/plain": [
       "{'error': {'code': 'usage_limit_reached',\n",
       "  'message': 'Your monthly usage limit has been reached. Please upgrade your Subscription Plan.'}}"
      ]
     },
     "execution_count": 25,
     "metadata": {},
     "output_type": "execute_result"
    }
   ],
   "source": [
    "r.json()"
   ]
  },
  {
   "cell_type": "code",
   "execution_count": 21,
   "id": "d599e8a9",
   "metadata": {
    "ExecuteTime": {
     "end_time": "2021-08-24T11:24:18.328608Z",
     "start_time": "2021-08-24T11:24:18.322438Z"
    }
   },
   "outputs": [
    {
     "data": {
      "text/plain": [
       "200"
      ]
     },
     "execution_count": 21,
     "metadata": {},
     "output_type": "execute_result"
    }
   ],
   "source": [
    "r.status_code"
   ]
  },
  {
   "cell_type": "code",
   "execution_count": 30,
   "id": "c3962c90",
   "metadata": {
    "ExecuteTime": {
     "end_time": "2021-08-24T13:16:32.096348Z",
     "start_time": "2021-08-24T13:16:32.087014Z"
    }
   },
   "outputs": [],
   "source": [
    "la = pd.read_csv('../raw_data/results-33.csv',\n",
    "           sep=';')"
   ]
  },
  {
   "cell_type": "code",
   "execution_count": 32,
   "id": "5fbc376f",
   "metadata": {
    "ExecuteTime": {
     "end_time": "2021-08-24T13:17:11.328141Z",
     "start_time": "2021-08-24T13:17:11.310038Z"
    }
   },
   "outputs": [
    {
     "data": {
      "text/html": [
       "<div>\n",
       "<style scoped>\n",
       "    .dataframe tbody tr th:only-of-type {\n",
       "        vertical-align: middle;\n",
       "    }\n",
       "\n",
       "    .dataframe tbody tr th {\n",
       "        vertical-align: top;\n",
       "    }\n",
       "\n",
       "    .dataframe thead th {\n",
       "        text-align: right;\n",
       "    }\n",
       "</style>\n",
       "<table border=\"1\" class=\"dataframe\">\n",
       "  <thead>\n",
       "    <tr style=\"text-align: right;\">\n",
       "      <th></th>\n",
       "      <th>ticker</th>\n",
       "      <th>WKN</th>\n",
       "      <th>close</th>\n",
       "      <th>date</th>\n",
       "      <th>country</th>\n",
       "    </tr>\n",
       "  </thead>\n",
       "  <tbody>\n",
       "    <tr>\n",
       "      <th>0</th>\n",
       "      <td>LCYFF</td>\n",
       "      <td>A14WU5</td>\n",
       "      <td>NaN</td>\n",
       "      <td>NaN</td>\n",
       "      <td>US</td>\n",
       "    </tr>\n",
       "    <tr>\n",
       "      <th>1</th>\n",
       "      <td>MSFT</td>\n",
       "      <td>870747</td>\n",
       "      <td>286,44</td>\n",
       "      <td>2021-08-10 00:00:00+00:00</td>\n",
       "      <td>US</td>\n",
       "    </tr>\n",
       "    <tr>\n",
       "      <th>2</th>\n",
       "      <td>MSFT</td>\n",
       "      <td>870747</td>\n",
       "      <td>288,33</td>\n",
       "      <td>2021-08-09 00:00:00+00:00</td>\n",
       "      <td>US</td>\n",
       "    </tr>\n",
       "    <tr>\n",
       "      <th>3</th>\n",
       "      <td>MSFT</td>\n",
       "      <td>870747</td>\n",
       "      <td>289,46</td>\n",
       "      <td>2021-08-06 00:00:00+00:00</td>\n",
       "      <td>US</td>\n",
       "    </tr>\n",
       "    <tr>\n",
       "      <th>4</th>\n",
       "      <td>MSFT</td>\n",
       "      <td>870747</td>\n",
       "      <td>289,52</td>\n",
       "      <td>2021-08-05 00:00:00+00:00</td>\n",
       "      <td>US</td>\n",
       "    </tr>\n",
       "    <tr>\n",
       "      <th>...</th>\n",
       "      <td>...</td>\n",
       "      <td>...</td>\n",
       "      <td>...</td>\n",
       "      <td>...</td>\n",
       "      <td>...</td>\n",
       "    </tr>\n",
       "    <tr>\n",
       "      <th>286</th>\n",
       "      <td>TRMB</td>\n",
       "      <td>882295</td>\n",
       "      <td>88,99</td>\n",
       "      <td>2021-08-10 00:00:00+00:00</td>\n",
       "      <td>US</td>\n",
       "    </tr>\n",
       "    <tr>\n",
       "      <th>287</th>\n",
       "      <td>TRMB</td>\n",
       "      <td>882295</td>\n",
       "      <td>89,18</td>\n",
       "      <td>2021-08-09 00:00:00+00:00</td>\n",
       "      <td>US</td>\n",
       "    </tr>\n",
       "    <tr>\n",
       "      <th>288</th>\n",
       "      <td>TRMB</td>\n",
       "      <td>882295</td>\n",
       "      <td>89,36</td>\n",
       "      <td>2021-08-06 00:00:00+00:00</td>\n",
       "      <td>US</td>\n",
       "    </tr>\n",
       "    <tr>\n",
       "      <th>289</th>\n",
       "      <td>TRMB</td>\n",
       "      <td>882295</td>\n",
       "      <td>89,42</td>\n",
       "      <td>2021-08-05 00:00:00+00:00</td>\n",
       "      <td>US</td>\n",
       "    </tr>\n",
       "    <tr>\n",
       "      <th>290</th>\n",
       "      <td>TRMB</td>\n",
       "      <td>882295</td>\n",
       "      <td>86,73</td>\n",
       "      <td>2021-08-04 00:00:00+00:00</td>\n",
       "      <td>US</td>\n",
       "    </tr>\n",
       "  </tbody>\n",
       "</table>\n",
       "<p>291 rows × 5 columns</p>\n",
       "</div>"
      ],
      "text/plain": [
       "    ticker     WKN   close                       date country\n",
       "0    LCYFF  A14WU5     NaN                        NaN      US\n",
       "1     MSFT  870747  286,44  2021-08-10 00:00:00+00:00      US\n",
       "2     MSFT  870747  288,33  2021-08-09 00:00:00+00:00      US\n",
       "3     MSFT  870747  289,46  2021-08-06 00:00:00+00:00      US\n",
       "4     MSFT  870747  289,52  2021-08-05 00:00:00+00:00      US\n",
       "..     ...     ...     ...                        ...     ...\n",
       "286   TRMB  882295   88,99  2021-08-10 00:00:00+00:00      US\n",
       "287   TRMB  882295   89,18  2021-08-09 00:00:00+00:00      US\n",
       "288   TRMB  882295   89,36  2021-08-06 00:00:00+00:00      US\n",
       "289   TRMB  882295   89,42  2021-08-05 00:00:00+00:00      US\n",
       "290   TRMB  882295   86,73  2021-08-04 00:00:00+00:00      US\n",
       "\n",
       "[291 rows x 5 columns]"
      ]
     },
     "execution_count": 32,
     "metadata": {},
     "output_type": "execute_result"
    }
   ],
   "source": [
    "la"
   ]
  },
  {
   "cell_type": "code",
   "execution_count": null,
   "id": "b73e2c8e",
   "metadata": {},
   "outputs": [],
   "source": []
  },
  {
   "cell_type": "code",
   "execution_count": 35,
   "id": "7f89ba25",
   "metadata": {
    "ExecuteTime": {
     "end_time": "2021-08-24T14:20:38.893882Z",
     "start_time": "2021-08-24T14:20:38.880384Z"
    }
   },
   "outputs": [],
   "source": [
    "res = {'850103', '851247', 'A1C06B', '870747', '866993', '855167', '869898', '897879', '920657', 'A0MW0M', '865985', 'A1C08F', '893484', '843002', '918422', 'EVNK01', 'A0YEES', '888351', 'SYM999', '850628', 'A2P1UZ', '716460', 'A1H5JY', '840400', '851995', 'A0NJ38', '710000', '547040', 'A1XA8R', 'A0Q4DC', '856958', '865682', '893579', '871981', '723610', 'A0NC7B', '860180', 'A0NBLH', '863195', 'A2JLJU', '866197', 'A14R7U', '555200', 'A14Y6F', '853292', '852062', '890447', 'A1J4U4', 'A1EWWW', '157484', '867475', 'A2DSYC', '882295', '578580', 'A14M2J', '878841', '623100'}\n",
    "init = {'850103', 'nan', 'BASF11', '851247', 'A1C06B', '870747', '855167', '866993', '869898', '897879', '920657', 'EWG2LD', 'A0MW0M', '865985', 'A1C08F', 'A1J782', '893484', 'A0Q41X', '843002', '918422', 'EVNK01', 'A0YEES', 'A118V8', 'SYM999', '888351', '850628', '716460', 'A2P1UZ', 'A1W0GT', 'A1H5JY', '840400', '851995', '547040', 'A1XA8R', '710000', 'A0NJ38', '522994', 'A0Q4DC', 'A0RGER', 'LYX0X6', '865682', '856958', '893579', '871981', '723610', 'A0NC7B', '860180', 'A0NBLH', '863195', 'A2JLJU', '866197', 'LYX014', 'A14R7U', 'ETFL35', 'A14Y6F', '555200', 'A2ARAV', 'kjasnppjn', 'A0J2R1', '853292', '852062', '890447', 'A1J4U4', 'A2DACG', 'A1EWWW', '157484', '867475', 'A2DSYC', 'A2JA2C', '882295', '578580', 'A14M2J', 'A14WU5', '878841', '623100'}\n",
    "\n",
    "lst = []\n",
    "\n",
    "for x in init:\n",
    "    if x not in res:\n",
    "        lst.append(x)"
   ]
  },
  {
   "cell_type": "code",
   "execution_count": 36,
   "id": "c7aa1eed",
   "metadata": {
    "ExecuteTime": {
     "end_time": "2021-08-24T14:20:41.127604Z",
     "start_time": "2021-08-24T14:20:41.121399Z"
    }
   },
   "outputs": [
    {
     "data": {
      "text/plain": [
       "['522994',\n",
       " 'A1J782',\n",
       " 'A1W0GT',\n",
       " 'nan',\n",
       " 'A2DACG',\n",
       " 'A0J2R1',\n",
       " 'ETFL35',\n",
       " 'LYX0X6',\n",
       " 'A118V8',\n",
       " 'kjasnppjn',\n",
       " 'BASF11',\n",
       " 'A0RGER',\n",
       " 'A2ARAV',\n",
       " 'A0Q41X',\n",
       " 'A14WU5',\n",
       " 'EWG2LD',\n",
       " 'A2JA2C',\n",
       " 'LYX014']"
      ]
     },
     "execution_count": 36,
     "metadata": {},
     "output_type": "execute_result"
    }
   ],
   "source": [
    "lst"
   ]
  },
  {
   "cell_type": "code",
   "execution_count": null,
   "id": "a16aecfb",
   "metadata": {},
   "outputs": [],
   "source": []
  }
 ],
 "metadata": {
  "kernelspec": {
   "display_name": "Python 3 (ipykernel)",
   "language": "python",
   "name": "python3"
  },
  "language_info": {
   "codemirror_mode": {
    "name": "ipython",
    "version": 3
   },
   "file_extension": ".py",
   "mimetype": "text/x-python",
   "name": "python",
   "nbconvert_exporter": "python",
   "pygments_lexer": "ipython3",
   "version": "3.9.0"
  },
  "toc": {
   "base_numbering": 1,
   "nav_menu": {},
   "number_sections": true,
   "sideBar": true,
   "skip_h1_title": false,
   "title_cell": "Table of Contents",
   "title_sidebar": "Contents",
   "toc_cell": false,
   "toc_position": {},
   "toc_section_display": true,
   "toc_window_display": false
  }
 },
 "nbformat": 4,
 "nbformat_minor": 5
}
