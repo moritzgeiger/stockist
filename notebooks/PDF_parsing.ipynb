{
 "cells": [
  {
   "cell_type": "code",
   "execution_count": 1,
   "id": "18338e21",
   "metadata": {
    "ExecuteTime": {
     "end_time": "2021-08-24T16:23:07.071872Z",
     "start_time": "2021-08-24T16:23:06.498260Z"
    }
   },
   "outputs": [],
   "source": [
    "import pandas as pd\n",
    "import numpy as np\n",
    "import requests\n",
    "import tabula\n",
    "import os\n",
    "import PyPDF2"
   ]
  },
  {
   "cell_type": "code",
   "execution_count": 2,
   "id": "78aecab5",
   "metadata": {
    "ExecuteTime": {
     "end_time": "2021-08-24T14:25:20.031232Z",
     "start_time": "2021-08-24T14:25:20.029532Z"
    }
   },
   "outputs": [],
   "source": [
    "file = '../raw_data/expl1_spk.pdf'"
   ]
  },
  {
   "cell_type": "code",
   "execution_count": 3,
   "id": "ba002c60",
   "metadata": {
    "ExecuteTime": {
     "end_time": "2021-08-24T14:25:21.567550Z",
     "start_time": "2021-08-24T14:25:21.458580Z"
    }
   },
   "outputs": [
    {
     "data": {
      "text/plain": [
       "0"
      ]
     },
     "execution_count": 3,
     "metadata": {},
     "output_type": "execute_result"
    }
   ],
   "source": [
    "# unlock file\n",
    "command = \"cp \" + file + \" temp.pdf; qpdf --password='' --decrypt temp.pdf \" + file + \"; rm temp.pdf\"\n",
    "os.system(command)"
   ]
  },
  {
   "cell_type": "markdown",
   "id": "fdbdcfed",
   "metadata": {},
   "source": [
    "# PDFplumber"
   ]
  },
  {
   "cell_type": "code",
   "execution_count": 2,
   "id": "756d3b94",
   "metadata": {
    "ExecuteTime": {
     "end_time": "2021-08-24T16:23:08.394313Z",
     "start_time": "2021-08-24T16:23:08.265198Z"
    }
   },
   "outputs": [],
   "source": [
    "import pdfplumber\n",
    "import re\n",
    "\n"
   ]
  },
  {
   "cell_type": "code",
   "execution_count": 17,
   "id": "2437647b",
   "metadata": {
    "ExecuteTime": {
     "end_time": "2021-08-24T16:29:05.203028Z",
     "start_time": "2021-08-24T16:29:04.913457Z"
    }
   },
   "outputs": [
    {
     "name": "stdout",
     "output_type": "stream",
     "text": [
      "couldn\"t process 2nd page of file: ../raw_data/20210220_Orderabrechnung_-bestaetigung_ISIN_DE000EWG2LD7_BOERSE_STUTTGART_S_vom_19_02_2021.PDF\n"
     ]
    }
   ],
   "source": [
    "files = ['../raw_data/20210226_Orderabrechnung_-bestaetigung_ISIN_DE000SYM9999_SYMRISE_AG_vom_25_02_2021.pdf',\n",
    "        '../raw_data/20210205_Orderabrechnung_-bestaetigung_ISIN_DE0007164600_SAP_SE_vom_04_02_2021.PDF',\n",
    "        '../raw_data/20210205_Orderabrechnung_-bestaetigung_ISIN_CH0012549785_SONOVA_HOLDING_AG_vom_04_02_2021.PDF',\n",
    "        '../raw_data/20210205_Orderabrechnung_-bestaetigung_ISIN_US0304201033_AMERICAN_WATER_WOR_vom_04_02_2021.PDF',\n",
    "        '../raw_data/20210220_Orderabrechnung_-bestaetigung_ISIN_DE000EWG2LD7_BOERSE_STUTTGART_S_vom_19_02_2021.PDF']\n",
    "df = pd.DataFrame()\n",
    "for file in files:    \n",
    "    \n",
    "    with pdfplumber.open(file) as pdf:\n",
    "        pages = [page.extract_text() for page in pdf.pages]\n",
    "\n",
    "    match = [p.start() for p in re.finditer('Nominale', pages[0])]\n",
    "    trans = pages[0][match[0]:].split('\\n')\n",
    "    action = re.findall('Wertpapier Abrechnung (\\w+)', pages[0])\n",
    "    \n",
    "    if action:\n",
    "        # if 'Abrechnung' was found\n",
    "        val = re.findall(r'Stück (\\d+)', trans[1])[0]\n",
    "        wkn = trans[1].replace(')', '').split('(')[1]\n",
    "        date = re.findall(r'Datum (\\d+.\\d+.\\d+)', pages[0])[0]\n",
    "        \n",
    "        # assemble df\n",
    "        data = [val, wkn, date]\n",
    "        columns = [action[0], 'WKN', 'Datum']\n",
    "        \n",
    "        \n",
    "        # scan 2nd page\n",
    "        if action[0] == 'Verkauf':\n",
    "            buy = [p.start() for p in re.finditer('Ber\\wcksichtigte Anschaffungsgesch\\wfte', pages[1])][0]\n",
    "#             columns2 = columns + pages[1][buy:].split('\\n')[1].split()\n",
    "            columns2 = columns + ['Geschäft', \n",
    "                                  'Auftragsnr.', \n",
    "                                  'Ausführ.-tag', \n",
    "                                  'Whr./St.', \n",
    "                                  'Nennwert/Stück', \n",
    "                                  'AS-Kosten', \n",
    "                                  'Erlös', 'ant.Ergebnis',\n",
    "                                  'Land']\n",
    "            data2 = data + pages[1][buy:].split('\\n')[2].split()\n",
    "            try:\n",
    "                new_df = pd.DataFrame([data2], columns=columns2)\n",
    "            except:\n",
    "                new_df = (pd.DataFrame([data], columns=columns))\n",
    "                print(f'couldn\"t process 2nd page of file: {file}')\n",
    "            \n",
    "        else:\n",
    "            rate = re.findall(r'Ausf\\whrungskurs(\\d+,\\d+)', pages[0])[0]\n",
    "            data.append(rate)\n",
    "            columns.append('Kurs')\n",
    "            new_df = pd.DataFrame([data], columns=columns)\n",
    "        \n",
    "        \n",
    "        df = pd.concat([df, new_df])\n"
   ]
  },
  {
   "cell_type": "code",
   "execution_count": 18,
   "id": "dc29de14",
   "metadata": {
    "ExecuteTime": {
     "end_time": "2021-08-24T16:29:07.455604Z",
     "start_time": "2021-08-24T16:29:07.428653Z"
    }
   },
   "outputs": [
    {
     "data": {
      "text/html": [
       "<div>\n",
       "<style scoped>\n",
       "    .dataframe tbody tr th:only-of-type {\n",
       "        vertical-align: middle;\n",
       "    }\n",
       "\n",
       "    .dataframe tbody tr th {\n",
       "        vertical-align: top;\n",
       "    }\n",
       "\n",
       "    .dataframe thead th {\n",
       "        text-align: right;\n",
       "    }\n",
       "</style>\n",
       "<table border=\"1\" class=\"dataframe\">\n",
       "  <thead>\n",
       "    <tr style=\"text-align: right;\">\n",
       "      <th></th>\n",
       "      <th>Verkauf</th>\n",
       "      <th>WKN</th>\n",
       "      <th>Datum</th>\n",
       "      <th>Geschäft</th>\n",
       "      <th>Auftragsnr.</th>\n",
       "      <th>Ausführ.-tag</th>\n",
       "      <th>Whr./St.</th>\n",
       "      <th>Nennwert/Stück</th>\n",
       "      <th>AS-Kosten</th>\n",
       "      <th>Erlös</th>\n",
       "      <th>ant.Ergebnis</th>\n",
       "      <th>Land</th>\n",
       "      <th>Kauf</th>\n",
       "      <th>Kurs</th>\n",
       "    </tr>\n",
       "  </thead>\n",
       "  <tbody>\n",
       "    <tr>\n",
       "      <th>0</th>\n",
       "      <td>240</td>\n",
       "      <td>SYM999</td>\n",
       "      <td>25.02.2021</td>\n",
       "      <td>Kauf</td>\n",
       "      <td>2913070700</td>\n",
       "      <td>13.03.2020</td>\n",
       "      <td>Stück</td>\n",
       "      <td>130,0000</td>\n",
       "      <td>11.021,54-</td>\n",
       "      <td>12.763,25</td>\n",
       "      <td>1.741,71</td>\n",
       "      <td>(D)</td>\n",
       "      <td>NaN</td>\n",
       "      <td>NaN</td>\n",
       "    </tr>\n",
       "    <tr>\n",
       "      <th>0</th>\n",
       "      <td>NaN</td>\n",
       "      <td>716460</td>\n",
       "      <td>04.02.2021</td>\n",
       "      <td>NaN</td>\n",
       "      <td>NaN</td>\n",
       "      <td>NaN</td>\n",
       "      <td>NaN</td>\n",
       "      <td>NaN</td>\n",
       "      <td>NaN</td>\n",
       "      <td>NaN</td>\n",
       "      <td>NaN</td>\n",
       "      <td>NaN</td>\n",
       "      <td>225</td>\n",
       "      <td>110,54</td>\n",
       "    </tr>\n",
       "    <tr>\n",
       "      <th>0</th>\n",
       "      <td>NaN</td>\n",
       "      <td>A0NJ38</td>\n",
       "      <td>04.02.2021</td>\n",
       "      <td>NaN</td>\n",
       "      <td>NaN</td>\n",
       "      <td>NaN</td>\n",
       "      <td>NaN</td>\n",
       "      <td>NaN</td>\n",
       "      <td>NaN</td>\n",
       "      <td>NaN</td>\n",
       "      <td>NaN</td>\n",
       "      <td>NaN</td>\n",
       "      <td>75</td>\n",
       "      <td>137,38</td>\n",
       "    </tr>\n",
       "    <tr>\n",
       "      <th>0</th>\n",
       "      <td>725</td>\n",
       "      <td>EWG2LD</td>\n",
       "      <td>19.02.2021</td>\n",
       "      <td>NaN</td>\n",
       "      <td>NaN</td>\n",
       "      <td>NaN</td>\n",
       "      <td>NaN</td>\n",
       "      <td>NaN</td>\n",
       "      <td>NaN</td>\n",
       "      <td>NaN</td>\n",
       "      <td>NaN</td>\n",
       "      <td>NaN</td>\n",
       "      <td>NaN</td>\n",
       "      <td>NaN</td>\n",
       "    </tr>\n",
       "  </tbody>\n",
       "</table>\n",
       "</div>"
      ],
      "text/plain": [
       "  Verkauf     WKN       Datum Geschäft Auftragsnr. Ausführ.-tag Whr./St.  \\\n",
       "0     240  SYM999  25.02.2021     Kauf  2913070700   13.03.2020    Stück   \n",
       "0     NaN  716460  04.02.2021      NaN         NaN          NaN      NaN   \n",
       "0     NaN  A0NJ38  04.02.2021      NaN         NaN          NaN      NaN   \n",
       "0     725  EWG2LD  19.02.2021      NaN         NaN          NaN      NaN   \n",
       "\n",
       "  Nennwert/Stück   AS-Kosten      Erlös ant.Ergebnis Land Kauf    Kurs  \n",
       "0       130,0000  11.021,54-  12.763,25     1.741,71  (D)  NaN     NaN  \n",
       "0            NaN         NaN        NaN          NaN  NaN  225  110,54  \n",
       "0            NaN         NaN        NaN          NaN  NaN   75  137,38  \n",
       "0            NaN         NaN        NaN          NaN  NaN  NaN     NaN  "
      ]
     },
     "execution_count": 18,
     "metadata": {},
     "output_type": "execute_result"
    }
   ],
   "source": [
    "df"
   ]
  },
  {
   "cell_type": "code",
   "execution_count": null,
   "id": "66148c5b",
   "metadata": {},
   "outputs": [],
   "source": []
  },
  {
   "cell_type": "code",
   "execution_count": null,
   "id": "eb186622",
   "metadata": {},
   "outputs": [],
   "source": []
  },
  {
   "cell_type": "code",
   "execution_count": null,
   "id": "9d5d0a05",
   "metadata": {},
   "outputs": [],
   "source": []
  },
  {
   "cell_type": "markdown",
   "id": "38de05ff",
   "metadata": {},
   "source": [
    "# Tabula|"
   ]
  },
  {
   "cell_type": "code",
   "execution_count": 8,
   "id": "0bb53953",
   "metadata": {
    "ExecuteTime": {
     "end_time": "2021-08-24T14:29:08.682393Z",
     "start_time": "2021-08-24T14:29:05.853325Z"
    }
   },
   "outputs": [],
   "source": [
    "mine = 'https://storage.googleapis.com/bank_price_pdfs/expl1_spk.pdf'\n",
    "file = '../raw_data/20210226_Orderabrechnung_-bestaetigung_ISIN_DE000SYM9999_SYMRISE_AG_vom_25_02_2021.pdf'\n",
    "url = 'https://raw.githubusercontent.com/chezou/tabula-py/master/tests/resources/MultiColumn.pdf'\n",
    "tables = tabula.read_pdf(file, \n",
    "                         stream=True,\n",
    "                         pages='all')"
   ]
  },
  {
   "cell_type": "code",
   "execution_count": 9,
   "id": "8e6de41d",
   "metadata": {
    "ExecuteTime": {
     "end_time": "2021-08-24T14:29:09.984718Z",
     "start_time": "2021-08-24T14:29:09.977808Z"
    }
   },
   "outputs": [
    {
     "data": {
      "text/plain": [
       "[]"
      ]
     },
     "execution_count": 9,
     "metadata": {},
     "output_type": "execute_result"
    }
   ],
   "source": [
    "tables"
   ]
  },
  {
   "cell_type": "markdown",
   "id": "230a51b8",
   "metadata": {},
   "source": [
    "# StringIO"
   ]
  },
  {
   "cell_type": "code",
   "execution_count": 18,
   "id": "30e8b784",
   "metadata": {
    "ExecuteTime": {
     "end_time": "2021-08-24T14:36:17.854182Z",
     "start_time": "2021-08-24T14:36:17.841220Z"
    }
   },
   "outputs": [
    {
     "ename": "NameError",
     "evalue": "name 'getPDFContent' is not defined",
     "output_type": "error",
     "traceback": [
      "\u001b[0;31m---------------------------------------------------------------------------\u001b[0m",
      "\u001b[0;31mNameError\u001b[0m                                 Traceback (most recent call last)",
      "\u001b[0;32m/var/folders/fg/10s82l0s4xq7b9ld1yn3k2j80000gn/T/ipykernel_69906/1865758691.py\u001b[0m in \u001b[0;36m<module>\u001b[0;34m\u001b[0m\n\u001b[1;32m      2\u001b[0m \u001b[0;34m\u001b[0m\u001b[0m\n\u001b[1;32m      3\u001b[0m \u001b[0;31m# Read each line of the PDF\u001b[0m\u001b[0;34m\u001b[0m\u001b[0;34m\u001b[0m\u001b[0;34m\u001b[0m\u001b[0m\n\u001b[0;32m----> 4\u001b[0;31m \u001b[0mpdfContent\u001b[0m \u001b[0;34m=\u001b[0m \u001b[0mStringIO\u001b[0m\u001b[0;34m(\u001b[0m\u001b[0mgetPDFContent\u001b[0m\u001b[0;34m(\u001b[0m\u001b[0mfile\u001b[0m\u001b[0;34m)\u001b[0m\u001b[0;34m.\u001b[0m\u001b[0mencode\u001b[0m\u001b[0;34m(\u001b[0m\u001b[0;34m\"ascii\"\u001b[0m\u001b[0;34m,\u001b[0m \u001b[0;34m\"ignore\"\u001b[0m\u001b[0;34m)\u001b[0m\u001b[0;34m)\u001b[0m\u001b[0;34m\u001b[0m\u001b[0;34m\u001b[0m\u001b[0m\n\u001b[0m",
      "\u001b[0;31mNameError\u001b[0m: name 'getPDFContent' is not defined"
     ]
    }
   ],
   "source": [
    "from io import StringIO\n",
    "\n",
    "# Read each line of the PDF\n",
    "pdfContent = StringIO(getPDFContent(file).encode(\"ascii\", \"ignore\"))"
   ]
  },
  {
   "cell_type": "markdown",
   "id": "34c48edf",
   "metadata": {},
   "source": [
    "# PyPDF2"
   ]
  },
  {
   "cell_type": "code",
   "execution_count": null,
   "id": "08671cf6",
   "metadata": {},
   "outputs": [],
   "source": []
  }
 ],
 "metadata": {
  "kernelspec": {
   "display_name": "Python 3 (ipykernel)",
   "language": "python",
   "name": "python3"
  },
  "language_info": {
   "codemirror_mode": {
    "name": "ipython",
    "version": 3
   },
   "file_extension": ".py",
   "mimetype": "text/x-python",
   "name": "python",
   "nbconvert_exporter": "python",
   "pygments_lexer": "ipython3",
   "version": "3.9.0"
  },
  "toc": {
   "base_numbering": 1,
   "nav_menu": {},
   "number_sections": true,
   "sideBar": true,
   "skip_h1_title": false,
   "title_cell": "Table of Contents",
   "title_sidebar": "Contents",
   "toc_cell": false,
   "toc_position": {},
   "toc_section_display": true,
   "toc_window_display": false
  }
 },
 "nbformat": 4,
 "nbformat_minor": 5
}
