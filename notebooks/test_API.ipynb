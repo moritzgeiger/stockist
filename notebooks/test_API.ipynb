{
 "cells": [
  {
   "cell_type": "markdown",
   "id": "3b36e688",
   "metadata": {},
   "source": [
    "# Imports 📚"
   ]
  },
  {
   "cell_type": "code",
   "execution_count": 133,
   "id": "e2f9d6c4",
   "metadata": {
    "ExecuteTime": {
     "end_time": "2021-08-05T14:57:36.510404Z",
     "start_time": "2021-08-05T14:57:36.493690Z"
    }
   },
   "outputs": [],
   "source": [
    "import pandas as pd\n",
    "import numpy as np\n",
    "import requests\n",
    "from yahoo_fin.stock_info import get_data\n",
    "import yfinance as yf\n",
    "import itertools\n",
    "from dotenv import load_dotenv, find_dotenv\n",
    "import os\n",
    "import matplotlib.pyplot as plt\n",
    "import seaborn as sns\n",
    "import plotly.express as px\n",
    "import datetime as dt\n",
    "from email.mime.multipart import MIMEMultipart\n",
    "from email.mime.text import MIMEText\n",
    "from email.mime.base import MIMEBase\n",
    "from email.mime.application import MIMEApplication\n",
    "from io import BytesIO, StringIO\n",
    "import tempfile\n",
    "from os.path import basename\n",
    "\n",
    "import smtplib\n",
    "import ssl"
   ]
  },
  {
   "cell_type": "markdown",
   "id": "0f0490a9",
   "metadata": {},
   "source": [
    "# Data 💾"
   ]
  },
  {
   "cell_type": "code",
   "execution_count": 2,
   "id": "5ec1e717",
   "metadata": {
    "ExecuteTime": {
     "end_time": "2021-08-05T14:05:17.870712Z",
     "start_time": "2021-08-05T14:05:17.865929Z"
    },
    "scrolled": true
   },
   "outputs": [],
   "source": [
    "df = pd.read_csv('../raw_data/stocks.csv',\n",
    "                delimiter=';')"
   ]
  },
  {
   "cell_type": "code",
   "execution_count": 3,
   "id": "dd0709f2",
   "metadata": {
    "ExecuteTime": {
     "end_time": "2021-08-05T14:05:17.880071Z",
     "start_time": "2021-08-05T14:05:17.871567Z"
    },
    "scrolled": true
   },
   "outputs": [
    {
     "data": {
      "text/html": [
       "<div>\n",
       "<style scoped>\n",
       "    .dataframe tbody tr th:only-of-type {\n",
       "        vertical-align: middle;\n",
       "    }\n",
       "\n",
       "    .dataframe tbody tr th {\n",
       "        vertical-align: top;\n",
       "    }\n",
       "\n",
       "    .dataframe thead th {\n",
       "        text-align: right;\n",
       "    }\n",
       "</style>\n",
       "<table border=\"1\" class=\"dataframe\">\n",
       "  <thead>\n",
       "    <tr style=\"text-align: right;\">\n",
       "      <th></th>\n",
       "      <th>Verwaltung</th>\n",
       "      <th>WKN</th>\n",
       "      <th>Name</th>\n",
       "      <th>Land</th>\n",
       "    </tr>\n",
       "  </thead>\n",
       "  <tbody>\n",
       "    <tr>\n",
       "      <th>0</th>\n",
       "      <td>KSK</td>\n",
       "      <td>EWG2LD</td>\n",
       "      <td>Euwax-Gold</td>\n",
       "      <td>DE</td>\n",
       "    </tr>\n",
       "    <tr>\n",
       "      <th>1</th>\n",
       "      <td>KSK</td>\n",
       "      <td>EWG2LD</td>\n",
       "      <td>Euwax-Gold</td>\n",
       "      <td>DE</td>\n",
       "    </tr>\n",
       "    <tr>\n",
       "      <th>2</th>\n",
       "      <td>KSK</td>\n",
       "      <td>EWG2LD</td>\n",
       "      <td>Euwax-Gold</td>\n",
       "      <td>DE</td>\n",
       "    </tr>\n",
       "    <tr>\n",
       "      <th>3</th>\n",
       "      <td>KSK</td>\n",
       "      <td>A118V8</td>\n",
       "      <td>Pfis ETF-P.LD EO C.B. EOI</td>\n",
       "      <td>IE</td>\n",
       "    </tr>\n",
       "    <tr>\n",
       "      <th>4</th>\n",
       "      <td>KSK</td>\n",
       "      <td>A118V8</td>\n",
       "      <td>Pfis ETF-P.LD EO C.B. EOI</td>\n",
       "      <td>IE</td>\n",
       "    </tr>\n",
       "  </tbody>\n",
       "</table>\n",
       "</div>"
      ],
      "text/plain": [
       "  Verwaltung     WKN                       Name Land\n",
       "0        KSK  EWG2LD                 Euwax-Gold   DE\n",
       "1        KSK  EWG2LD                 Euwax-Gold   DE\n",
       "2        KSK  EWG2LD                 Euwax-Gold   DE\n",
       "3        KSK  A118V8  Pfis ETF-P.LD EO C.B. EOI   IE\n",
       "4        KSK  A118V8  Pfis ETF-P.LD EO C.B. EOI   IE"
      ]
     },
     "execution_count": 3,
     "metadata": {},
     "output_type": "execute_result"
    }
   ],
   "source": [
    "df.head()"
   ]
  },
  {
   "cell_type": "code",
   "execution_count": null,
   "id": "d04e7130",
   "metadata": {},
   "outputs": [],
   "source": []
  },
  {
   "cell_type": "markdown",
   "id": "81c40f66",
   "metadata": {},
   "source": [
    "# Get data from mail"
   ]
  },
  {
   "cell_type": "code",
   "execution_count": 120,
   "id": "1098e2e7",
   "metadata": {
    "ExecuteTime": {
     "end_time": "2021-08-05T14:55:22.645438Z",
     "start_time": "2021-08-05T14:55:22.634913Z"
    }
   },
   "outputs": [],
   "source": [
    "load_dotenv(find_dotenv())\n",
    "port = 465  # For SSL\n",
    "GMAIL = os.environ.get(\"GMAIL\")\n",
    "homename = os.environ.get(\"HOMENAME\", 'Sender not found')\n",
    "sender_email = os.environ.get(\"SENDER\")\n",
    "receiver_email = (os.environ.get(\"RECEIVER\")).split(',') # need list\n",
    "debug = os.environ.get(\"DEBUG\").lower() in ['true', 'yes', '1', 'most certainly', 'gladly', 'I can hardly disagree']\n",
    "signature = f\"<p>Sincerely, <br>Your Stockist</p>\"\n"
   ]
  },
  {
   "cell_type": "code",
   "execution_count": 134,
   "id": "1ada801b",
   "metadata": {
    "ExecuteTime": {
     "end_time": "2021-08-05T14:57:38.412147Z",
     "start_time": "2021-08-05T14:57:38.393836Z"
    }
   },
   "outputs": [],
   "source": [
    "def send_email(homename, sender_email, receiver_email, password, port, signature, df, debug):\n",
    "    \"\"\"\n",
    "    Compiles an Email with the email.mime library and sends it through a Google Mail smtp server.\n",
    "    Takes in variables for the mail content [homename (str), lvl_results (dict), signature (str)]\n",
    "    and settings to send the email [sender_email, receiver_email, password, port]\n",
    "    There is a debug argument to test the email function despite a trigger isn't reached.\n",
    "    \"\"\"\n",
    "    print('send email was called.')\n",
    "    # check, if there is alert level 2 was reached in the checkpoints\n",
    "    if debug:#or an email was received:\n",
    "        print('data was requested via mail')\n",
    "        # init msg\n",
    "        init = \"<p>***Stock prices request***, \\\n",
    "                <br><br>Please find requested historical stock prices attached.<br><br></p>\"\n",
    "        \n",
    "        # Record the MIME types of text/html.\n",
    "        text = MIMEMultipart('alternative')\n",
    "        text.attach(MIMEText(init + signature, 'html', _charset=\"utf-8\"))\n",
    "\n",
    "        # compile email msg\n",
    "        now = dt.datetime.now().strftime(\"%y-%m-%d %H:%M\")\n",
    "        msg = MIMEMultipart('mixed')\n",
    "        \n",
    "        # avoid automized email ruling by subject when testing\n",
    "        if debug:\n",
    "            msg['Subject'] = f\"-TESTRUN- Stock prices {now}\"\n",
    "        else:\n",
    "            msg['Subject'] = f\"-RESULTS- Stock Prices - {now}\"\n",
    "        msg['From'] = f'{homename} <{sender_email}>'\n",
    "        msg['To'] = ','.join(receiver_email)\n",
    "\n",
    "        # add all parts to msg\n",
    "        msg.attach(text)\n",
    "\n",
    "        # create tables as .csv from temp files\n",
    "        tempdir = tempfile.gettempdir()\n",
    "        filename = f'{tempdir}/results.csv'\n",
    "        \n",
    "        # filter and save csv tables\n",
    "        save_file = df.to_csv(filename)\n",
    "        \n",
    "        with open(filename, \"rb\") as fil:\n",
    "            part = MIMEApplication(\n",
    "                    fil.read(),\n",
    "                    Name=basename(filename))\n",
    "\n",
    "            part['Content-Disposition'] = f'attachment; filename={basename(filename)}'\n",
    "            msg.attach(part)\n",
    "\n",
    "        # Create a secure SSL context\n",
    "        context = ssl.create_default_context()\n",
    "\n",
    "        with smtplib.SMTP_SSL(\"smtp.gmail.com\", port, context=context) as server:\n",
    "            server.login(sender_email, password)\n",
    "            server.sendmail(sender_email, receiver_email, msg.as_string())\n",
    "\n",
    "        print(f'successfully sent email to {receiver_email}')\n",
    "    else:\n",
    "        print(f'There was no request via email.')\n",
    "        print('Exit function without sending mail.')"
   ]
  },
  {
   "cell_type": "code",
   "execution_count": 135,
   "id": "d496fb4b",
   "metadata": {
    "ExecuteTime": {
     "end_time": "2021-08-05T14:57:41.062131Z",
     "start_time": "2021-08-05T14:57:38.555023Z"
    }
   },
   "outputs": [
    {
     "name": "stdout",
     "output_type": "stream",
     "text": [
      "send email was called.\n",
      "data was requested via mail\n",
      "successfully sent email to ['moritzgeiger@hotmail.de']\n"
     ]
    }
   ],
   "source": [
    "send_email(homename=homename, \n",
    "           sender_email=sender_email, \n",
    "           receiver_email=receiver_email, \n",
    "           password=GMAIL, \n",
    "           port=port, \n",
    "           signature=signature, \n",
    "           df=df_done, \n",
    "           debug=debug)"
   ]
  },
  {
   "cell_type": "markdown",
   "id": "05aaae15",
   "metadata": {},
   "source": [
    "# Translate WKN to ticker ⤵️"
   ]
  },
  {
   "cell_type": "code",
   "execution_count": 4,
   "id": "5db2b42a",
   "metadata": {
    "ExecuteTime": {
     "end_time": "2021-08-05T14:05:17.885573Z",
     "start_time": "2021-08-05T14:05:17.882497Z"
    }
   },
   "outputs": [],
   "source": [
    "### ENV VARIABLES\n",
    "load_dotenv(find_dotenv())\n",
    "figi_key = os.environ.get(\"FIGI\")"
   ]
  },
  {
   "cell_type": "code",
   "execution_count": 5,
   "id": "748aa625",
   "metadata": {
    "ExecuteTime": {
     "end_time": "2021-08-05T14:05:17.893681Z",
     "start_time": "2021-08-05T14:05:17.887735Z"
    }
   },
   "outputs": [],
   "source": [
    "# openfigi\n",
    "def translate_wkn(df, figi_key=None):\n",
    "    '''\n",
    "    translates the wkn to the intl stock ticker code.\n",
    "    uses openfigi api to get the info\n",
    "    takes in a df with a \"WKN\" and \"Land\" column and figi api key.\n",
    "    removes duplicates from df.\n",
    "    if no key provided only 10 requests (rows) can be processed. Else 100 can be processed at a time.\n",
    "    _____________\n",
    "    returns enriched df by \"ticker\" code.\n",
    "    '''\n",
    "    # BASE\n",
    "    openfigi_url = 'https://api.openfigi.com/v1/mapping'\n",
    "    openfigi_headers = {'Content-Type': 'text/json'}\n",
    "    \n",
    "\n",
    "    \n",
    "    # DF handle (drop duplicates to avoid double requests)\n",
    "    df_new = df.copy().drop_duplicates(subset=['WKN', 'Land']).dropna(subset=['WKN'])\n",
    "    \n",
    "    # INIT JOBS\n",
    "    jobs = []\n",
    "    for i, row in df_new.iterrows():\n",
    "        jobs.append({\"idType\":\"ID_WERTPAPIER\",\"idValue\":str(row.WKN)}) # don't define country\n",
    "    \n",
    "    # slice jobs into junks of 100 or 10 depending on API key\n",
    "    if figi_key:\n",
    "        openfigi_headers['X-OPENFIGI-APIKEY'] = figi_key\n",
    "        sjobs = [jobs[i:i + 100] for i in range(0, len(jobs), 100)] # very cool slicer!\n",
    "        \n",
    "    else:\n",
    "        sjobs = [jobs[i:i + 10] for i in range(0, len(jobs), 10)]\n",
    "        \n",
    "    \n",
    "    # REQUEST\n",
    "    responses = []\n",
    "    \n",
    "    for jobs in sjobs:\n",
    "        r = requests.post(url=openfigi_url, headers=openfigi_headers,\n",
    "                    json=jobs).json()\n",
    "        \n",
    "        for i in range(len(r)):\n",
    "            try:\n",
    "                responses.append(r[i].get('data')[0].get('ticker'))\n",
    "            except:\n",
    "                responses.append('n/a') # fill the list to match the df\n",
    "    \n",
    "    df_new['ticker'] = responses\n",
    "    \n",
    "    return df_new.reset_index(drop=True)"
   ]
  },
  {
   "cell_type": "code",
   "execution_count": 6,
   "id": "20476b8e",
   "metadata": {
    "ExecuteTime": {
     "end_time": "2021-08-05T14:05:18.799281Z",
     "start_time": "2021-08-05T14:05:17.895156Z"
    }
   },
   "outputs": [],
   "source": [
    "re = translate_wkn(df, figi_key=figi_key)"
   ]
  },
  {
   "cell_type": "code",
   "execution_count": 7,
   "id": "4f121eeb",
   "metadata": {
    "ExecuteTime": {
     "end_time": "2021-08-05T14:05:18.807704Z",
     "start_time": "2021-08-05T14:05:18.800316Z"
    }
   },
   "outputs": [
    {
     "data": {
      "text/html": [
       "<div>\n",
       "<style scoped>\n",
       "    .dataframe tbody tr th:only-of-type {\n",
       "        vertical-align: middle;\n",
       "    }\n",
       "\n",
       "    .dataframe tbody tr th {\n",
       "        vertical-align: top;\n",
       "    }\n",
       "\n",
       "    .dataframe thead th {\n",
       "        text-align: right;\n",
       "    }\n",
       "</style>\n",
       "<table border=\"1\" class=\"dataframe\">\n",
       "  <thead>\n",
       "    <tr style=\"text-align: right;\">\n",
       "      <th></th>\n",
       "      <th>Verwaltung</th>\n",
       "      <th>WKN</th>\n",
       "      <th>Name</th>\n",
       "      <th>Land</th>\n",
       "      <th>ticker</th>\n",
       "    </tr>\n",
       "  </thead>\n",
       "  <tbody>\n",
       "    <tr>\n",
       "      <th>0</th>\n",
       "      <td>KSK</td>\n",
       "      <td>EWG2LD</td>\n",
       "      <td>Euwax-Gold</td>\n",
       "      <td>DE</td>\n",
       "      <td>EWG2</td>\n",
       "    </tr>\n",
       "    <tr>\n",
       "      <th>1</th>\n",
       "      <td>KSK</td>\n",
       "      <td>A118V8</td>\n",
       "      <td>Pfis ETF-P.LD EO C.B. EOI</td>\n",
       "      <td>IE</td>\n",
       "      <td>LDCE</td>\n",
       "    </tr>\n",
       "    <tr>\n",
       "      <th>2</th>\n",
       "      <td>KSK</td>\n",
       "      <td>ETFL35</td>\n",
       "      <td>DeKa Iboxx EO L.GE.COV.DIV.</td>\n",
       "      <td>DE</td>\n",
       "      <td>ETFIBOXG</td>\n",
       "    </tr>\n",
       "    <tr>\n",
       "      <th>3</th>\n",
       "      <td>KSK</td>\n",
       "      <td>A14WU5</td>\n",
       "      <td>L+G-L+G Cyb.Sec.U.ETF DZ</td>\n",
       "      <td>IE</td>\n",
       "      <td>ISPY</td>\n",
       "    </tr>\n",
       "    <tr>\n",
       "      <th>4</th>\n",
       "      <td>KSK</td>\n",
       "      <td>870747</td>\n",
       "      <td>Microsoft Corp.</td>\n",
       "      <td>US</td>\n",
       "      <td>MSFT</td>\n",
       "    </tr>\n",
       "    <tr>\n",
       "      <th>...</th>\n",
       "      <td>...</td>\n",
       "      <td>...</td>\n",
       "      <td>...</td>\n",
       "      <td>...</td>\n",
       "      <td>...</td>\n",
       "    </tr>\n",
       "    <tr>\n",
       "      <th>73</th>\n",
       "      <td>KSK</td>\n",
       "      <td>A14R7U</td>\n",
       "      <td>PAYPAL HOLDINGS INC.</td>\n",
       "      <td>US</td>\n",
       "      <td>PYPL</td>\n",
       "    </tr>\n",
       "    <tr>\n",
       "      <th>74</th>\n",
       "      <td>KSK</td>\n",
       "      <td>A0RGER</td>\n",
       "      <td>ISHSIII-MSCI EM SM.CAP U.ETF</td>\n",
       "      <td>IE</td>\n",
       "      <td>IEMS</td>\n",
       "    </tr>\n",
       "    <tr>\n",
       "      <th>75</th>\n",
       "      <td>KSK</td>\n",
       "      <td>A1J782</td>\n",
       "      <td>ISHS VI-E.MSCI EM MIN.VOL.U.E.</td>\n",
       "      <td>IE</td>\n",
       "      <td>EMMV</td>\n",
       "    </tr>\n",
       "    <tr>\n",
       "      <th>76</th>\n",
       "      <td>KSK</td>\n",
       "      <td>555200</td>\n",
       "      <td>Deutsche Post AG</td>\n",
       "      <td>DE</td>\n",
       "      <td>DPW</td>\n",
       "    </tr>\n",
       "    <tr>\n",
       "      <th>77</th>\n",
       "      <td>KSK</td>\n",
       "      <td>882295</td>\n",
       "      <td>Trimble INC</td>\n",
       "      <td>US</td>\n",
       "      <td>TRMB</td>\n",
       "    </tr>\n",
       "  </tbody>\n",
       "</table>\n",
       "<p>78 rows × 5 columns</p>\n",
       "</div>"
      ],
      "text/plain": [
       "   Verwaltung     WKN                            Name Land    ticker\n",
       "0         KSK  EWG2LD                      Euwax-Gold   DE      EWG2\n",
       "1         KSK  A118V8       Pfis ETF-P.LD EO C.B. EOI   IE      LDCE\n",
       "2         KSK  ETFL35     DeKa Iboxx EO L.GE.COV.DIV.   DE  ETFIBOXG\n",
       "3         KSK  A14WU5        L+G-L+G Cyb.Sec.U.ETF DZ   IE      ISPY\n",
       "4         KSK  870747                 Microsoft Corp.   US      MSFT\n",
       "..        ...     ...                             ...  ...       ...\n",
       "73        KSK  A14R7U            PAYPAL HOLDINGS INC.   US      PYPL\n",
       "74        KSK  A0RGER    ISHSIII-MSCI EM SM.CAP U.ETF   IE      IEMS\n",
       "75        KSK  A1J782  ISHS VI-E.MSCI EM MIN.VOL.U.E.   IE      EMMV\n",
       "76        KSK  555200                Deutsche Post AG   DE       DPW\n",
       "77        KSK  882295                     Trimble INC   US      TRMB\n",
       "\n",
       "[78 rows x 5 columns]"
      ]
     },
     "execution_count": 7,
     "metadata": {},
     "output_type": "execute_result"
    }
   ],
   "source": [
    "re"
   ]
  },
  {
   "cell_type": "code",
   "execution_count": 8,
   "id": "218ddabc",
   "metadata": {
    "ExecuteTime": {
     "end_time": "2021-08-05T14:05:18.813426Z",
     "start_time": "2021-08-05T14:05:18.808610Z"
    }
   },
   "outputs": [
    {
     "data": {
      "text/plain": [
       "['EWG2 LDCE ETFIBOXG ISPY MSFT APX WKL WM SY1 ASML',\n",
       " 'JPALCAU BLEJPBM XCO2 ALV AAPL ADBE LIN PHBN ADS GRMN',\n",
       " 'ORLY 7309 NO DG SU ABT IUS5 INRG LXS STT',\n",
       " 'MMK DCX MC SIE SAP FME MUV2 BAS DG SAN',\n",
       " 'IFX V PG CSCO MSFT PEP NESR AWC ROG GOOGL',\n",
       " 'DGE MDT CNR DHR MCD CMCSA OTIS COST ATCOA HCMLF',\n",
       " 'JPM PEP V CSCO ORSTED NVDA PG NKE EVK AMDGBID',\n",
       " 'BERTEL LXSGR ESL PYPL IEMS EMMV DPW TRMB']"
      ]
     },
     "execution_count": 8,
     "metadata": {},
     "output_type": "execute_result"
    }
   ],
   "source": [
    "tickers = [x.split()[0] for x in re.ticker] # some tickers contain spaces\n",
    "\n",
    "stickers = [' '.join(tickers[i:i + 10]) for i in range(0, len(tickers), 10)]\n",
    "stickers"
   ]
  },
  {
   "cell_type": "code",
   "execution_count": 52,
   "id": "8db6f2c2",
   "metadata": {
    "ExecuteTime": {
     "end_time": "2021-08-05T14:16:23.042243Z",
     "start_time": "2021-08-05T14:16:23.029942Z"
    }
   },
   "outputs": [],
   "source": [
    "def history_data(df):\n",
    "    '''\n",
    "    searches for historical stock values for designated stocks with the help of yfinance (yahoo).\n",
    "    takes in a df which contains the column 'ticker'\n",
    "    ___________\n",
    "    returns a df with the columns ticker, wkn and the historical values.\n",
    "    '''\n",
    "    \n",
    "    # HANDLE DF\n",
    "    df_new = df.copy().dropna()\n",
    "    tickers = [x.split()[0] for x in df_new.ticker] # some tickers contain spaces\n",
    "    stickers = ' '.join(tickers) # yf requires space separated string\n",
    "    \n",
    "    # GET DATA\n",
    "    df_concat = yf.download(tickers=stickers,\n",
    "                          period='1y',\n",
    "                          interval='1d',\n",
    "                          show_errors=True,\n",
    "                           progress=True)\n",
    "    \n",
    "    # only get the closing price and remove double indexing\n",
    "    new = df_concat.loc[:,('Close', slice(None))]\n",
    "    new.columns = [x[1] for x in new.columns] # remove duplex columns\n",
    "    \n",
    "    # transform and add old cols\n",
    "    df_trans = new.T.rename_axis('ticker')#.reset_index()\n",
    "    df_out = df_trans.merge(df_new[['WKN', 'ticker']], left_index=True, right_on='ticker')\n",
    "    df_out = df_out.set_index(['WKN', 'ticker'])\n",
    "    \n",
    "    # set datetime\n",
    "    df_out.columns = pd.to_datetime(df_out.columns)\n",
    "    \n",
    "    return df_out"
   ]
  },
  {
   "cell_type": "code",
   "execution_count": 113,
   "id": "1f2d00cd",
   "metadata": {
    "ExecuteTime": {
     "end_time": "2021-08-05T14:35:37.566314Z",
     "start_time": "2021-08-05T14:35:35.988898Z"
    }
   },
   "outputs": [
    {
     "name": "stdout",
     "output_type": "stream",
     "text": [
      "[*********************100%***********************]  72 of 72 completed\n",
      "\n",
      "32 Failed downloads:\n",
      "- ATCOA: No data found, symbol may be delisted\n",
      "- FME: No data found for this date range, symbol may be delisted\n",
      "- LXS: No data found for this date range, symbol may be delisted\n",
      "- NO: No data found for this date range, symbol may be delisted\n",
      "- ISPY: No data found, symbol may be delisted\n",
      "- BLEJPBM: No data found, symbol may be delisted\n",
      "- BERTEL: No data found, symbol may be delisted\n",
      "- XCO2: No data found, symbol may be delisted\n",
      "- SY1: No data found, symbol may be delisted\n",
      "- MUV2: No data found, symbol may be delisted\n",
      "- APX: No data found for this date range, symbol may be delisted\n",
      "- IUS5: No data found, symbol may be delisted\n",
      "- 7309: No data found, symbol may be delisted\n",
      "- SIE: No data found for this date range, symbol may be delisted\n",
      "- INRG: No data found for this date range, symbol may be delisted\n",
      "- LXSGR: No data found, symbol may be delisted\n",
      "- MMK: No data found for this date range, symbol may be delisted\n",
      "- WKL: No data found for this date range, symbol may be delisted\n",
      "- IFX: No data found for this date range, symbol may be delisted\n",
      "- JPALCAU: No data found, symbol may be delisted\n",
      "- BAS: No data found, symbol may be delisted\n",
      "- ETFIBOXG: No data found, symbol may be delisted\n",
      "- DCX: No data found for this date range, symbol may be delisted\n",
      "- AMDGBID: No data found, symbol may be delisted\n",
      "- IEMS: No data found, symbol may be delisted\n",
      "- EWG2: No data found, symbol may be delisted\n",
      "- PHBN: No data found, symbol may be delisted\n",
      "- ESL: No data found, symbol may be delisted\n",
      "- AWC: No data found for this date range, symbol may be delisted\n",
      "- EMMV: No data found, symbol may be delisted\n",
      "- ORSTED: No data found, symbol may be delisted\n",
      "- LDCE: No data found, symbol may be delisted\n"
     ]
    }
   ],
   "source": [
    "history_data(re).to_csv('../raw_data/hist_data.csv')"
   ]
  },
  {
   "cell_type": "code",
   "execution_count": 118,
   "id": "15b500fe",
   "metadata": {
    "ExecuteTime": {
     "end_time": "2021-08-05T14:54:16.466120Z",
     "start_time": "2021-08-05T14:54:15.026776Z"
    }
   },
   "outputs": [
    {
     "name": "stdout",
     "output_type": "stream",
     "text": [
      "[*********************100%***********************]  72 of 72 completed\n",
      "\n",
      "32 Failed downloads:\n",
      "- LXS: No data found for this date range, symbol may be delisted\n",
      "- ATCOA: No data found, symbol may be delisted\n",
      "- BERTEL: No data found, symbol may be delisted\n",
      "- FME: No data found for this date range, symbol may be delisted\n",
      "- NO: No data found for this date range, symbol may be delisted\n",
      "- XCO2: No data found, symbol may be delisted\n",
      "- BLEJPBM: No data found, symbol may be delisted\n",
      "- ISPY: No data found, symbol may be delisted\n",
      "- SY1: No data found, symbol may be delisted\n",
      "- MUV2: No data found, symbol may be delisted\n",
      "- APX: No data found for this date range, symbol may be delisted\n",
      "- 7309: No data found, symbol may be delisted\n",
      "- IUS5: No data found, symbol may be delisted\n",
      "- SIE: No data found for this date range, symbol may be delisted\n",
      "- INRG: No data found for this date range, symbol may be delisted\n",
      "- LXSGR: No data found, symbol may be delisted\n",
      "- MMK: No data found for this date range, symbol may be delisted\n",
      "- WKL: No data found for this date range, symbol may be delisted\n",
      "- IFX: No data found for this date range, symbol may be delisted\n",
      "- JPALCAU: No data found, symbol may be delisted\n",
      "- BAS: No data found, symbol may be delisted\n",
      "- AMDGBID: No data found, symbol may be delisted\n",
      "- IEMS: No data found, symbol may be delisted\n",
      "- DCX: No data found for this date range, symbol may be delisted\n",
      "- ETFIBOXG: No data found, symbol may be delisted\n",
      "- EWG2: No data found, symbol may be delisted\n",
      "- PHBN: No data found, symbol may be delisted\n",
      "- ESL: No data found, symbol may be delisted\n",
      "- EMMV: No data found, symbol may be delisted\n",
      "- AWC: No data found for this date range, symbol may be delisted\n",
      "- LDCE: No data found, symbol may be delisted\n",
      "- ORSTED: No data found, symbol may be delisted\n"
     ]
    }
   ],
   "source": [
    "df_done = history_data(re)"
   ]
  },
  {
   "cell_type": "code",
   "execution_count": null,
   "id": "6f0b15a4",
   "metadata": {},
   "outputs": [],
   "source": []
  }
 ],
 "metadata": {
  "kernelspec": {
   "display_name": "Python 3 (ipykernel)",
   "language": "python",
   "name": "python3"
  },
  "language_info": {
   "codemirror_mode": {
    "name": "ipython",
    "version": 3
   },
   "file_extension": ".py",
   "mimetype": "text/x-python",
   "name": "python",
   "nbconvert_exporter": "python",
   "pygments_lexer": "ipython3",
   "version": "3.9.0"
  },
  "toc": {
   "base_numbering": 1,
   "nav_menu": {},
   "number_sections": true,
   "sideBar": true,
   "skip_h1_title": false,
   "title_cell": "Table of Contents",
   "title_sidebar": "Contents",
   "toc_cell": false,
   "toc_position": {},
   "toc_section_display": true,
   "toc_window_display": false
  }
 },
 "nbformat": 4,
 "nbformat_minor": 5
}
